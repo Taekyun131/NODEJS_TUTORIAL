{
 "cells": [
  {
   "cell_type": "markdown",
   "id": "5a062deb",
   "metadata": {},
   "source": [
    "## npm과 yarn으로 패키지 관리"
   ]
  },
  {
   "cell_type": "markdown",
   "id": "e3b5ba30",
   "metadata": {},
   "source": [
    "### npm(Node Package Manager) - 자바스크립트용 패키지 매니저"
   ]
  },
  {
   "cell_type": "markdown",
   "id": "39822b5c",
   "metadata": {},
   "source": [
    "### 패키지와 모듈\n",
    "- 패키지: package.json으로 정의한 파일 또는 디렉터리\n",
    "- 모듈: node_modules 디렉터리 아래에 있는 파일 또는 디렉터리(require() 함수로 임포트 가능)"
   ]
  },
  {
   "cell_type": "markdown",
   "id": "96740f39",
   "metadata": {},
   "source": [
    "### package.json 파일\n",
    "- 04_sample-package 디렉토리에서 npm init -y 명령어로 생성\n",
    "- 04_sample-test 디렉토리에서 npm install ../04_sample-package 명령어로 설치"
   ]
  },
  {
   "cell_type": "markdown",
   "id": "1ee35dd7",
   "metadata": {},
   "source": [
    "### 패키지 설치, 업데이트, 삭제"
   ]
  },
  {
   "cell_type": "markdown",
   "id": "76da9593",
   "metadata": {},
   "source": [
    "#### 설치: npm install 명령어 사용"
   ]
  },
  {
   "cell_type": "markdown",
   "id": "227a21bb",
   "metadata": {},
   "source": [
    "#### 업데이트: npm update 명령어 사용"
   ]
  },
  {
   "cell_type": "markdown",
   "id": "4fe46a8a",
   "metadata": {},
   "source": [
    "#### 삭제: npm uninstall 명령어 사용"
   ]
  },
  {
   "cell_type": "markdown",
   "id": "b4e57d31",
   "metadata": {},
   "source": [
    "#### 리스트 확인: npm list"
   ]
  },
  {
   "cell_type": "markdown",
   "id": "b7bf6af1",
   "metadata": {},
   "source": [
    "### 스크립트 기능과 NPX"
   ]
  },
  {
   "cell_type": "markdown",
   "id": "589b8225",
   "metadata": {},
   "source": [
    "#### npm 스크립트 - package.json의 scrips에 등록된 항목은 npm run 명령으로 실행가능"
   ]
  },
  {
   "cell_type": "markdown",
   "id": "125ea1d5",
   "metadata": {},
   "source": [
    "### npx(Node Package eXecute) - 경로를 생략해 실행가능"
   ]
  },
  {
   "cell_type": "markdown",
   "id": "8f17fc7d",
   "metadata": {},
   "source": [
    "### 패키지 잠금 - npm 설치 시 올바르게 동작하는 버전을 고정"
   ]
  },
  {
   "cell_type": "markdown",
   "id": "000cd3ff",
   "metadata": {},
   "source": [
    "### yarn - npm의 용량, 다운로드 속도, 보안문제들을 해결하기 위해 만든 패키지 관리 프로그램"
   ]
  }
 ],
 "metadata": {
  "kernelspec": {
   "display_name": "JavaScript (Node.js)",
   "language": "javascript",
   "name": "javascript"
  },
  "language_info": {
   "name": "javascript"
  }
 },
 "nbformat": 4,
 "nbformat_minor": 5
}
