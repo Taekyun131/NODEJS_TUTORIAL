{
 "cells": [
  {
   "cell_type": "markdown",
   "id": "35bb2efe",
   "metadata": {},
   "source": [
    "## 자바스크립트에서 비동기 처리"
   ]
  },
  {
   "cell_type": "markdown",
   "id": "a9375a84",
   "metadata": {},
   "source": [
    "### 비동기 - 자바스크립트는 싱글 스레드로 동작하기에 작업은 차례로 실행되며, 이전 작업이 완료될 때까지 대기\n",
    "### &nbsp;&nbsp; 하지만 비동기 프로그래밍에는 임의의 순서로 또는 동시에 작업 진행가능"
   ]
  },
  {
   "cell_type": "markdown",
   "id": "322c4f3d",
   "metadata": {},
   "source": [
    "- 콜백: 함수의 파라미터로 함수를 전달하며, 비동기 처리가 끝났을 때 전달된 함수 실행\n",
    "- 프로미스: 비동기 작업이 완료되면 결과를 반환, 성공과 실패에 대한 처리 진행\n",
    "- 어싱크 어웨이트: 프로미스를 사용하는 비동기 작업을 동기적으로 처리하는 것처럼 코드 작성"
   ]
  },
  {
   "cell_type": "markdown",
   "id": "b29e9835",
   "metadata": {},
   "source": [
    "### 1) 콜백 함수\n",
    "#### 가독성이 좋지 않으며 유지보수 및 디버깅이 어려움"
   ]
  },
  {
   "cell_type": "code",
   "execution_count": 1,
   "id": "d98eab6a",
   "metadata": {},
   "outputs": [
    {
     "name": "stdout",
     "output_type": "stream",
     "text": [
      "save andy to DB\n",
      "email to andy@test.com\n",
      "success register andy\n"
     ]
    }
   ],
   "source": [
    "// 콜백 예제\n",
    "const DB=[];\n",
    "\n",
    "// 회원가입 API 함수\n",
    "function register(user){    // 콜백이 3중으로 중첩된 함수\n",
    "    return saveDB(user, function(user){         // 콜백 1 \n",
    "        return sendEmail(user, function(user){  // 콜백 2\n",
    "            return getResult(user);             // 콜백 3\n",
    "        });\n",
    "    });\n",
    "}\n",
    "\n",
    "// DB에 저장 후 콜백 실행\n",
    "function saveDB(user, callback){\n",
    "    DB.push(user);\n",
    "    console.log(`save ${user.name} to DB`);\n",
    "    return callback(user);\n",
    "}\n",
    "\n",
    "// 이메일 발송 로그만 남기는 코드 실행 후 콜백 실행\n",
    "function sendEmail(user, callback){\n",
    "    console.log(`email to ${user.email}`);\n",
    "    return callback(user);\n",
    "}\n",
    "\n",
    "// 결과를 반환하는 함수\n",
    "function getResult(user){\n",
    "    return `success register ${user.name}`;\n",
    "}\n",
    "\n",
    "const result=register({email: \"andy@test.com\", password: \"1234\", name: \"andy\"});\n",
    "console.log(result);    \n",
    "/*\n",
    "save andy to DB\n",
    "email to andy@test.com\n",
    "success register andy\n",
    "*/\n",
    "\n"
   ]
  },
  {
   "cell_type": "markdown",
   "id": "f0c0440f",
   "metadata": {},
   "source": [
    "### 2) Promise 객체\n",
    "#### 비동기 실행을 동기화하는 구문으로 사용\n",
    "#### 이행, 대기, 거절 세 가지의 상태를 가짐"
   ]
  },
  {
   "cell_type": "code",
   "execution_count": null,
   "id": "14fc4ae6",
   "metadata": {},
   "outputs": [
    {
     "name": "stdout",
     "output_type": "stream",
     "text": [
      "save andy to DB\n",
      "Promise { <pending> }\n"
     ]
    },
    {
     "data": {
      "text/plain": [
       "Promise { <pending> }"
      ]
     },
     "execution_count": 1,
     "metadata": {},
     "output_type": "execute_result"
    },
    {
     "name": "stdout",
     "output_type": "stream",
     "text": [
      "email to andy@test.com\n",
      "success register andy\n"
     ]
    }
   ],
   "source": [
    "// Promise 예제\n",
    "\n",
    "const DB=[];\n",
    "\n",
    "function saveDB(user){\n",
    "    const oldDBSize=DB.length;\n",
    "    DB.push(user);\n",
    "    console.log(`save ${user.name} to DB`);\n",
    "    return new Promise((resolve, reject) => {   // 콜백 대신 Promise 객체 반환\n",
    "        if(DB.length>oldDBSize){\n",
    "            resolve(user);  // 성공 시 유저 정보 반환\n",
    "        }else{\n",
    "            reject(new Error(\"Save DB Error!\")); // 실패 시 에러 발생\n",
    "        }\n",
    "    });\n",
    "}\n",
    "\n",
    "function sendEmail(user){\n",
    "    console.log(`email to ${user.email}`);\n",
    "    return new Promise((resolve) => {   // Promise 객체를 반환. 실패 처리 없음\n",
    "        resolve(user); \n",
    "    });\n",
    "}\n",
    "\n",
    "function getResult(user){\n",
    "    return new Promise((resolve, reject) => {   // Promise 객체 반환\n",
    "        resolve(`success register ${user.name}`)    // 성공 시 성공 메시지와 유저명 반환\n",
    "    })\n",
    "}\n",
    "\n",
    "function registerByPromise(user){\n",
    "    // 비동기 호출이지만 , 순서를 지켜서 실행\n",
    "    const result=saveDB(user).then(sendEmail).then(getResult);\n",
    "    // 아직 완료되지 않았으므로 지연(pending) 상태\n",
    "    console.log(result);\n",
    "    return result;\n",
    "}\n",
    "\n",
    "const myUser={email: \"andy@test.com\", password: \"1234\", name: \"andy\"};\n",
    "const result=registerByPromise(myUser);\n",
    "// 결과값이 Promise이므로 then() 메서드에 함수를 넣어서 결과값을 볼 수 있음(Promise 객체에만 then 사용가능)\n",
    "result.then(console.log);\n",
    "/* save andy to DB\n",
    "Promise { <pending> }\n",
    "Promise { <pending> }\n",
    "email to andy@test.com\n",
    "success register andy */"
   ]
  },
  {
   "cell_type": "markdown",
   "id": "f3d2c7e9",
   "metadata": {},
   "source": [
    "#### 동시에 여러 Promise 객체 호출"
   ]
  },
  {
   "cell_type": "code",
   "execution_count": null,
   "id": "f572844e",
   "metadata": {},
   "outputs": [
    {
     "name": "stdout",
     "output_type": "stream",
     "text": [
      "save andy to DB\n",
      "email to andy@test.com\n"
     ]
    },
    {
     "data": {
      "text/plain": [
       "Promise { <pending> }"
      ]
     },
     "execution_count": 1,
     "metadata": {},
     "output_type": "execute_result"
    },
    {
     "name": "stdout",
     "output_type": "stream",
     "text": [
      "[\n",
      "  { email: 'andy@test.com', password: '1234', name: 'andy' },\n",
      "  { email: 'andy@test.com', password: '1234', name: 'andy' },\n",
      "  'success register andy'\n",
      "]\n"
     ]
    }
   ],
   "source": [
    "// 동시에 여러 Promise 객체 호출하는 코드\n",
    "const DB=[];\n",
    "\n",
    "function saveDB(user){\n",
    "    const oldDBSize=DB.length;\n",
    "    DB.push(user);\n",
    "    console.log(`save ${user.name} to DB`);\n",
    "    return new Promise((resolve, reject) => {   // 콜백 대신 Promise 객체 반환\n",
    "        if(DB.length>oldDBSize){\n",
    "            resolve(user);  // 성공 시 유저 정보 반환\n",
    "        }else{\n",
    "            reject(new Error(\"Save DB Error!\")); // 실패 시 에러 발생\n",
    "        }\n",
    "    });\n",
    "}\n",
    "\n",
    "function sendEmail(user){\n",
    "    console.log(`email to ${user.email}`);\n",
    "    return new Promise((resolve) => {   // Promise 객체를 반환. 실패 처리 없음\n",
    "        resolve(user); \n",
    "    });\n",
    "}\n",
    "\n",
    "function getResult(user){\n",
    "    return new Promise((resolve, reject) => {   // Promise 객체 반환\n",
    "        resolve(`success register ${user.name}`)    // 성공 시 성공 메시지와 유저명 반환\n",
    "    })\n",
    "}\n",
    "\n",
    "function registerByPromise(user){\n",
    "    // 비동기 호출이지만 , 순서를 지켜서 실행\n",
    "    const result=saveDB(user).then(sendEmail).then(getResult);\n",
    "    // 아직 완료되지 않았으므로 지연(pending) 상태\n",
    "    console.log(result);\n",
    "    return result;\n",
    "}\n",
    "\n",
    "// const myUser={email: \"andy@test.com\", password: \"1234\", name: \"andy\"};\n",
    "// const result=registerByPromise(myUser);\n",
    "// // 결과값이 Promise이므로 then() 메서드에 함수를 넣어서 결과값을 볼 수 있음(Promise 객체에만 then 사용가능)\n",
    "// result.then(console.log);\n",
    "\n",
    "// 수정 코드\n",
    "const myUser={email: \"andy@test.com\", password: \"1234\", name: \"andy\"};\n",
    "allResult=Promise.all([saveDB(myUser), sendEmail(myUser), getResult(myUser)]);\n",
    "allResult.then(console.log)\n",
    "\n",
    "/*\n",
    "save andy to DB\n",
    "email to andy@test.com\n",
    "Promise { <pending> }\n",
    "[\n",
    "  { email: 'andy@test.com', password: '1234', name: 'andy' },\n",
    "  { email: 'andy@test.com', password: '1234', name: 'andy' },\n",
    "  'success register andy'\n",
    "]\n",
    "  */"
   ]
  },
  {
   "cell_type": "markdown",
   "id": "fe336021",
   "metadata": {},
   "source": [
    "#### Promise 예외 처리"
   ]
  },
  {
   "cell_type": "code",
   "execution_count": null,
   "id": "7af38657",
   "metadata": {},
   "outputs": [
    {
     "name": "stdout",
     "output_type": "stream",
     "text": [
      "save andy to DB\n",
      "email to andy@test.com\n"
     ]
    },
    {
     "data": {
      "text/plain": [
       "Promise { <pending> }"
      ]
     },
     "execution_count": 1,
     "metadata": {},
     "output_type": "execute_result"
    },
    {
     "name": "stderr",
     "output_type": "stream",
     "text": [
      "Error: Save DB Error!\n",
      "    at evalmachine.<anonymous>:13:20\n",
      "    at new Promise (<anonymous>)\n",
      "    at saveDB (evalmachine.<anonymous>:9:12)\n",
      "    at evalmachine.<anonymous>:51:24\n",
      "    at Script.runInThisContext (node:vm:122:12)\n",
      "    at Object.runInThisContext (node:vm:296:38)\n",
      "    at run ([eval]:1020:15)\n",
      "    at onRunRequest ([eval]:864:18)\n",
      "    at onMessage ([eval]:828:13)\n",
      "    at process.emit (node:events:514:28)"
     ]
    }
   ],
   "source": [
    "// Promise 예외처리 코드\n",
    "const DB=[];\n",
    "\n",
    "function saveDB(user){\n",
    "    // const oldDBSize=DB.length;    \n",
    "    const oldDBSize=DB.length+1;    // 오류가 발생하도록 수정\n",
    "    DB.push(user);\n",
    "    console.log(`save ${user.name} to DB`);\n",
    "    return new Promise((resolve, reject) => {   // 콜백 대신 Promise 객체 반환\n",
    "        if(DB.length>oldDBSize){\n",
    "            resolve(user);  // 성공 시 유저 정보 반환\n",
    "        }else{\n",
    "            reject(new Error(\"Save DB Error!\")); // 실패 시 에러 발생\n",
    "        }\n",
    "    });\n",
    "}\n",
    "\n",
    "function sendEmail(user){\n",
    "    console.log(`email to ${user.email}`);\n",
    "    return new Promise((resolve) => {   // Promise 객체를 반환. 실패 처리 없음\n",
    "        resolve(user); \n",
    "    });\n",
    "}\n",
    "\n",
    "function getResult(user){\n",
    "    return new Promise((resolve, reject) => {   // Promise 객체 반환\n",
    "        resolve(`success register ${user.name}`)    // 성공 시 성공 메시지와 유저명 반환\n",
    "    })\n",
    "}\n",
    "\n",
    "function registerByPromise(user){\n",
    "    // 비동기 호출이지만 , 순서를 지켜서 실행\n",
    "    // const result=saveDB(user).then(sendEmail).then(getResult);\n",
    "\n",
    "    const result=saveDB(user)\n",
    "                    .then(sendEmail)\n",
    "                    .then(getResult)\n",
    "                    .catch(error => new Error(error));  // 예외처리구문 추가\n",
    "    // 아직 완료되지 않았으므로 지연(pending) 상태\n",
    "    console.log(result);\n",
    "    return result;\n",
    "}\n",
    "\n",
    "// const myUser={email: \"andy@test.com\", password: \"1234\", name: \"andy\"};\n",
    "// const result=registerByPromise(myUser);\n",
    "// // 결과값이 Promise이므로 then() 메서드에 함수를 넣어서 결과값을 볼 수 있음(Promise 객체에만 then 사용가능)\n",
    "// result.then(console.log);\n",
    "\n",
    "// 수정 코드\n",
    "const myUser={email: \"andy@test.com\", password: \"1234\", name: \"andy\"};\n",
    "allResult=Promise.all([saveDB(myUser), sendEmail(myUser), getResult(myUser)]);\n",
    "allResult.then(console.log)\n",
    "\n",
    "/*\n",
    "save andy to DB\n",
    "email to andy@test.com\n",
    "Promise { <pending> }\n",
    "[\n",
    "  { email: 'andy@test.com', password: '1234', name: 'andy' },\n",
    "  { email: 'andy@test.com', password: '1234', name: 'andy' },\n",
    "  'success register andy'\n",
    "]\n",
    "  */"
   ]
  },
  {
   "cell_type": "code",
   "execution_count": 1,
   "id": "368811df",
   "metadata": {},
   "outputs": [
    {
     "name": "stdout",
     "output_type": "stream",
     "text": [
      "save andy to DB\n",
      "email to andy@test.com\n"
     ]
    },
    {
     "data": {
      "text/plain": [
       "Promise { <pending> }"
      ]
     },
     "execution_count": 1,
     "metadata": {},
     "output_type": "execute_result"
    },
    {
     "name": "stderr",
     "output_type": "stream",
     "text": [
      "Error: Save DB Error!\n",
      "    at evalmachine.<anonymous>:15:20\n",
      "    at new Promise (<anonymous>)\n",
      "    at saveDB (evalmachine.<anonymous>:11:12)\n",
      "    at evalmachine.<anonymous>:55:24\n",
      "    at Script.runInThisContext (node:vm:122:12)\n",
      "    at Object.runInThisContext (node:vm:296:38)\n",
      "    at run ([eval]:1020:15)\n",
      "    at onRunRequest ([eval]:864:18)\n",
      "    at onMessage ([eval]:828:13)\n",
      "    at process.emit (node:events:514:28)"
     ]
    }
   ],
   "source": [
    "// finally 추가\n",
    "\n",
    "// Promise 예외처리 코드\n",
    "const DB=[];\n",
    "\n",
    "function saveDB(user){\n",
    "    // const oldDBSize=DB.length;    \n",
    "    const oldDBSize=DB.length+1;    // 오류가 발생하도록 수정\n",
    "    DB.push(user);\n",
    "    console.log(`save ${user.name} to DB`);\n",
    "    return new Promise((resolve, reject) => {   // 콜백 대신 Promise 객체 반환\n",
    "        if(DB.length>oldDBSize){\n",
    "            resolve(user);  // 성공 시 유저 정보 반환\n",
    "        }else{\n",
    "            reject(new Error(\"Save DB Error!\")); // 실패 시 에러 발생\n",
    "        }\n",
    "    });\n",
    "}\n",
    "\n",
    "function sendEmail(user){\n",
    "    console.log(`email to ${user.email}`);\n",
    "    return new Promise((resolve) => {   // Promise 객체를 반환. 실패 처리 없음\n",
    "        resolve(user); \n",
    "    });\n",
    "}\n",
    "\n",
    "function getResult(user){\n",
    "    return new Promise((resolve, reject) => {   // Promise 객체 반환\n",
    "        resolve(`success register ${user.name}`)    // 성공 시 성공 메시지와 유저명 반환\n",
    "    })\n",
    "}\n",
    "\n",
    "function registerByPromise(user){\n",
    "    // 비동기 호출이지만 , 순서를 지켜서 실행\n",
    "    // const result=saveDB(user).then(sendEmail).then(getResult);\n",
    "\n",
    "    const result=saveDB(user)\n",
    "                    .then(sendEmail)\n",
    "                    .then(getResult)\n",
    "                    .catch(error => new Error(error))  // 예외처리구문 추가\n",
    "                    // 성공, 실패 여부에 관계없이 실행\n",
    "                    .finally(() => console.log(\"완료!\"));\n",
    "    // 아직 완료되지 않았으므로 지연(pending) 상태\n",
    "    console.log(result);\n",
    "    return result;\n",
    "}\n",
    "\n",
    "// const myUser={email: \"andy@test.com\", password: \"1234\", name: \"andy\"};\n",
    "// const result=registerByPromise(myUser);\n",
    "// // 결과값이 Promise이므로 then() 메서드에 함수를 넣어서 결과값을 볼 수 있음(Promise 객체에만 then 사용가능)\n",
    "// result.then(console.log);\n",
    "\n",
    "// 수정 코드\n",
    "const myUser={email: \"andy@test.com\", password: \"1234\", name: \"andy\"};\n",
    "allResult=Promise.all([saveDB(myUser), sendEmail(myUser), getResult(myUser)]);\n",
    "allResult.then(console.log)\n",
    "\n",
    "/*\n",
    "save andy to DB\n",
    "email to andy@test.com\n",
    "Promise { <pending> }\n",
    "[\n",
    "  { email: 'andy@test.com', password: '1234', name: 'andy' },\n",
    "  { email: 'andy@test.com', password: '1234', name: 'andy' },\n",
    "  'success register andy'\n",
    "]\n",
    "  */"
   ]
  },
  {
   "cell_type": "markdown",
   "id": "4c75f4e2",
   "metadata": {},
   "source": [
    "#### 프로미스의 문제점"
   ]
  },
  {
   "cell_type": "code",
   "execution_count": null,
   "id": "3fdf8e52",
   "metadata": {},
   "outputs": [
    {
     "data": {
      "text/plain": [
       "Promise { <pending> }"
      ]
     },
     "execution_count": 2,
     "metadata": {},
     "output_type": "execute_result"
    },
    {
     "name": "stdout",
     "output_type": "stream",
     "text": [
      "세상에 이런 코드는 없습니다\n"
     ]
    }
   ],
   "source": [
    "// 이상적인 Promise 코드\n",
    "function goodPromise(val){\n",
    "    // Promise를 생성 후 반환\n",
    "    return new Promise((resolve, reject) => {\n",
    "        resolve(val);\n",
    "    });\n",
    "}\n",
    "\n",
    "goodPromise(\"세상에\")\n",
    "    // Promise에서 resolve 이후에는 then 호출가능\n",
    "    .then((val) => {\n",
    "        return val+\" 이런\";\n",
    "    })\n",
    "    .then((val) => {\n",
    "        return val+\" 코드는\";\n",
    "    })\n",
    "    .then((val) => {\n",
    "        return val+\" 없습니다\";\n",
    "    })\n",
    "    .then((val) => {\n",
    "        console.log(val);\n",
    "    })\n",
    "    .catch((err) => {   // Promise에서 reject가 호출되었을 경우 실행\n",
    "        console.log(err);\n",
    "    });"
   ]
  },
  {
   "cell_type": "code",
   "execution_count": null,
   "id": "c6a372e3",
   "metadata": {},
   "outputs": [
    {
     "data": {
      "text/plain": [
       "Promise { <pending> }"
      ]
     },
     "execution_count": 3,
     "metadata": {},
     "output_type": "execute_result"
    },
    {
     "name": "stdout",
     "output_type": "stream",
     "text": [
      "[1위] 처음부터 잘했으면 얼마나 좋니\n",
      "[2위] <본즈 앤 올> 궁지로 내몰린 10대를 보는 시선\n",
      "[3위] 경이로운 생生의 의지로 창조해낸 ‘페르시아어’\n",
      "[4위] 뻔하지 않은 사랑 영화\n",
      "[5위] 우린 아무것도 모른다, 틀렸다는\u001d것만 증명할 뿐…에올\n",
      "[6위] [영화리뷰] <더 메뉴>를 보고\n",
      "[7위] 진실한 삶의 태도를 제시하다\n",
      "[8위] 중요한 건 꺾이지 않는 마음\n",
      "[9위] 치즈버거 세트의 행복\n",
      "[10위] 즐기거나 놀리거나,\n",
      "[11위] [영화감상]오늘 밤, 세계에서 이 사랑이 사라진다 해도\n",
      "[12위] 아들을 구하고 싶다면 달려라\n",
      "[13위] 인생은 아름다워(2022)\n",
      "[14위] 영화 <사도>, 죽음의 문턱에 와서야 닿는 마음에 대해\n",
      "[15위] 스타워즈: 안도르\n",
      "[16위] 죽음의 문턱에서 거짓말로 살아남은 자의 고백\n",
      "[17위] 닫힌 마음 - 영화 '체리향기'\n",
      "[18위] <오늘 밤, 세계에서 이 사랑이 사라진다 해도> 리뷰\n",
      "[19위] <더 메뉴> 180만 원짜리 먹으러 와서 사레 걸린기분\n",
      "[20위] 닭장을 나온 백호 \n"
     ]
    }
   ],
   "source": [
    "// 복잡한 Promise 예제\n",
    "// 현재 상영 영화 순위를 20위까지 Promise를 사용해 확인하기\n",
    "\n",
    "const axios=require(\"axios\");   // axios 임포트\n",
    "// 영화 순위 정보 url\n",
    "const url=\"https://raw.githubusercontent.com/wapj/jsbackend/main/movieinfo.json\";\n",
    "\n",
    "axios\n",
    "    .get(url)   // GET 요청\n",
    "    .then((result) => {     // 결과값 처리\n",
    "        if(result.status!=200){\n",
    "            throw new Error(\"요청에 실패했습니다.\");\n",
    "        }\n",
    "\n",
    "        if(result.data){    // result.data가 있으면 결과를 반환\n",
    "            return result.data;\n",
    "        }\n",
    "\n",
    "        throw new Error(\"데이터 없습니다.\"); // data가 없으면 에러\n",
    "    })\n",
    "    .then((data) => {   // data 처리\n",
    "        if(!data.articleList || data.articleList.size==0){  // 크기가 0이면 에러\n",
    "            throw new Error(\"데이터가 없습니다.\");\n",
    "        }\n",
    "        return data.articleList;    // 영화 리스트 반환\n",
    "    })\n",
    "    .then((articles) => {\n",
    "        return articles.map((article, idx) => { // 영화 리스트를 제목과 순위 정보로 분리\n",
    "            return {title: article. title, rank: idx+1}\n",
    "        });\n",
    "    })\n",
    "    .then((results) => {\n",
    "        for(let movieInfo of results){  // 받은 영화 리스트 정보 출력\n",
    "            console.log(`[${movieInfo.rank}위] ${movieInfo.title}`);\n",
    "        }\n",
    "    })\n",
    "    .catch((err) => {   // 중간에 발생한 에러들을 여기서 처리\n",
    "        console.log(\"<<에러발생>>\");\n",
    "        console.error(err);\n",
    "    });"
   ]
  },
  {
   "cell_type": "code",
   "execution_count": null,
   "id": "4157ff20",
   "metadata": {},
   "outputs": [],
   "source": [
    "// 문제점 및 대안 찾기\n",
    "// 콜백보다는 깔끔한 코드를 유지할 수 있지만 문제점 발생\n",
    "// ex 1) then() 함수에 성공 시와 실패 시 처리할 함수를 둘 다 넘기는 경우\n",
    "function myWork(work){\n",
    "    return new Promise((resolve, reject) => {\n",
    "        if(work==='done'){\n",
    "            resolve('게임가능');\n",
    "        }else{\n",
    "            reject(new Error(\"게임 불가능\"));\n",
    "        }\n",
    "        \n",
    "    })\n",
    "}\n",
    "\n",
    "// 콜백과 다를 바가 없음\n",
    "myWork('done').then(function(value){console.log(value)}, function(err){console.error(err)});\n",
    "\n",
    "// 에러처리해 개선\n",
    "myWork('doing')\n",
    "    .then(function (value) {console.log(value)})\n",
    "    .catch(function(err) {console.error(err)});"
   ]
  },
  {
   "cell_type": "code",
   "execution_count": 3,
   "id": "20469f7e",
   "metadata": {},
   "outputs": [
    {
     "data": {
      "text/plain": [
       "Promise { <pending> }"
      ]
     },
     "execution_count": 3,
     "metadata": {},
     "output_type": "execute_result"
    },
    {
     "name": "stdout",
     "output_type": "stream",
     "text": [
      "GO PLAY GAME\n",
      "GO PLAY GAME\n"
     ]
    }
   ],
   "source": [
    "// ex 2) Promise를 중첩해서 사용하는 경우\n",
    "function myWork(work){\n",
    "    return new Promise((resolve, reject) => {\n",
    "        resolve(work.toUpperCase());\n",
    "    })\n",
    "}\n",
    "\n",
    "function playGame(work){\n",
    "    return new Promise((resolve, reject) => {\n",
    "        if(work === 'DONE'){\n",
    "            resolve(\"GO PLAY GAME\");\n",
    "        }else{\n",
    "            reject(new Error(\"DON'T\"));\n",
    "        }\n",
    "    })\n",
    "}\n",
    "\n",
    "// Promise를 중첩해서 사용\n",
    "myWork('done')\n",
    "    .then(function(result){\n",
    "        playGame(result).then(function(val){\n",
    "            console.log(val);\n",
    "        });\n",
    "    })\n",
    "\n",
    "// 결과를 then으로 넘겨 개선\n",
    "myWork('done')\n",
    "    .then(playGame)\n",
    "    .then(console.log)"
   ]
  },
  {
   "cell_type": "markdown",
   "id": "6a16196e",
   "metadata": {},
   "source": [
    "### 3) async await 구문"
   ]
  },
  {
   "cell_type": "code",
   "execution_count": null,
   "id": "29c9481a",
   "metadata": {},
   "outputs": [
    {
     "name": "stdout",
     "output_type": "stream",
     "text": [
      "Promise { 'Andy' }\n"
     ]
    }
   ],
   "source": [
    "// async 예제\n",
    "async function myName(){    // async: Promise로 반환값을 감싸서 넘겨줌\n",
    "    return \"Andy\";\n",
    "}\n",
    "\n",
    "console.log(myName());"
   ]
  },
  {
   "cell_type": "code",
   "execution_count": null,
   "id": "58541326",
   "metadata": {},
   "outputs": [
    {
     "name": "stdout",
     "output_type": "stream",
     "text": [
      "Promise { <pending> }\n"
     ]
    },
    {
     "name": "stdout",
     "output_type": "stream",
     "text": [
      "Andy\n"
     ]
    }
   ],
   "source": [
    "// async await 예제\n",
    "async function myName(){\n",
    "    return \"Andy\";\n",
    "}\n",
    "\n",
    "async function showName(){  // 이름을 출력하는 함수\n",
    "    const name=await myName();\n",
    "    console.log(name);\n",
    "}\n",
    "\n",
    "console.log(showName());    // 콘솔에 이름 출력"
   ]
  },
  {
   "cell_type": "code",
   "execution_count": null,
   "id": "32a87521",
   "metadata": {},
   "outputs": [
    {
     "data": {
      "text/plain": [
       "Promise { <pending> }"
      ]
     },
     "execution_count": 4,
     "metadata": {},
     "output_type": "execute_result"
    },
    {
     "name": "stdout",
     "output_type": "stream",
     "text": [
      "1초 대기 중...\n",
      "2초 대기 중...\n",
      "3초 대기 중...\n",
      "4초 대기 중...\n",
      "5초 대기 중...\n",
      "6초 대기 중...\n",
      "7초 대기 중...\n",
      "8초 대기 중...\n",
      "9초 대기 중...\n",
      "10초 대기 중...\n",
      "완료\n"
     ]
    }
   ],
   "source": [
    "// async, await, setTimeout()으로 1부터 10까지 세기\n",
    "function waitOneSecond(msg){    // 1초 대기하고 메시지 출력\n",
    "    return new Promise((resolve, _) => {\n",
    "        setTimeout(() => resolve(`${msg}`), 1000);\n",
    "    });\n",
    "}\n",
    "\n",
    "async function countOneToTen(){ // 10초 동안 1초마다 메시지 출력\n",
    "    for(let x of [...Array(10).keys()]){    // 0부터 9까지 루프를 순회\n",
    "        // 1초 대기 후 result에 결과값 저장\n",
    "        let result=await waitOneSecond(`${x+1}초 대기 중...`);\n",
    "        console.log(result);\n",
    "    }\n",
    "    console.log(\"완료\");\n",
    "}\n",
    "\n",
    "countOneToTen();"
   ]
  },
  {
   "cell_type": "code",
   "execution_count": null,
   "id": "2bc87705",
   "metadata": {},
   "outputs": [
    {
     "data": {
      "text/plain": [
       "Promise { <pending> }"
      ]
     },
     "execution_count": 1,
     "metadata": {},
     "output_type": "execute_result"
    },
    {
     "name": "stdout",
     "output_type": "stream",
     "text": [
      "[1위] 처음부터 잘했으면 얼마나 좋니\n",
      "[2위] <본즈 앤 올> 궁지로 내몰린 10대를 보는 시선\n",
      "[3위] 경이로운 생生의 의지로 창조해낸 ‘페르시아어’\n",
      "[4위] 뻔하지 않은 사랑 영화\n",
      "[5위] 우린 아무것도 모른다, 틀렸다는\u001d것만 증명할 뿐…에올\n",
      "[6위] [영화리뷰] <더 메뉴>를 보고\n",
      "[7위] 진실한 삶의 태도를 제시하다\n",
      "[8위] 중요한 건 꺾이지 않는 마음\n",
      "[9위] 치즈버거 세트의 행복\n",
      "[10위] 즐기거나 놀리거나,\n",
      "[11위] [영화감상]오늘 밤, 세계에서 이 사랑이 사라진다 해도\n",
      "[12위] 아들을 구하고 싶다면 달려라\n",
      "[13위] 인생은 아름다워(2022)\n",
      "[14위] 영화 <사도>, 죽음의 문턱에 와서야 닿는 마음에 대해\n",
      "[15위] 스타워즈: 안도르\n",
      "[16위] 죽음의 문턱에서 거짓말로 살아남은 자의 고백\n",
      "[17위] 닫힌 마음 - 영화 '체리향기'\n",
      "[18위] <오늘 밤, 세계에서 이 사랑이 사라진다 해도> 리뷰\n",
      "[19위] <더 메뉴> 180만 원짜리 먹으러 와서 사레 걸린기분\n",
      "[20위] 닭장을 나온 백호 \n"
     ]
    }
   ],
   "source": [
    "// Top 20 영화 제목 가져오기 async await로 리팩터링\n",
    "const axios=require(\"axios\");\n",
    "\n",
    "async function getTop20Movies(){    // await를 사용하므로 async를 붙임\n",
    "    const url=\"https://raw.githubusercontent.com/wapj/jsbackend/main/movieinfo.json\";\n",
    "    try{\n",
    "        // 네트워크에서 데이터를 받아오므로 await로 기다림\n",
    "        const result=await axios.get(url);\n",
    "        const {data}=result;    // 결과값에는 data 프로퍼티가 있음\n",
    "        // data 또는 articleList 없을 때 예외처리\n",
    "        if(!data.articleList || data.articleList.size==0){\n",
    "            throw new Error(\"데이터가 없습니다.\");\n",
    "        }\n",
    "        // data에서 필요한 영화 제목과 순위 정보를 뽑아냄\n",
    "        const movieInfos=data.articleList.map((article, idx) => {\n",
    "            return {title: article.title, rank: idx+1};\n",
    "        });\n",
    "\n",
    "        // 데이터 출력\n",
    "        for(let movieInfo of movieInfos){\n",
    "            console.log(`[${movieInfo.rank}위] ${movieInfo.title}`);\n",
    "        }\n",
    "    } catch(err){\n",
    "        // 예외 처리는 기존 코드와 같게 try catch로 감쌈\n",
    "        throw new Error(err);\n",
    "    }\n",
    "}\n",
    "\n",
    "// await를 함수 안에서만 사용가능하므로 함수를 하나 생성해 실행\n",
    "getTop20Movies();"
   ]
  }
 ],
 "metadata": {
  "kernelspec": {
   "display_name": "JavaScript (Node.js)",
   "language": "javascript",
   "name": "javascript"
  },
  "language_info": {
   "file_extension": ".js",
   "mimetype": "application/javascript",
   "name": "javascript",
   "version": "20.9.0"
  }
 },
 "nbformat": 4,
 "nbformat_minor": 5
}
