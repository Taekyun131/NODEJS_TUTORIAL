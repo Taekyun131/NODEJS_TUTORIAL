{
 "cells": [
  {
   "cell_type": "markdown",
   "id": "5a5a19b9",
   "metadata": {},
   "source": [
    "## NoSQL 데이터베이스 MongoDB"
   ]
  },
  {
   "cell_type": "markdown",
   "id": "566d8470",
   "metadata": {},
   "source": [
    "### 몽고디비 - 데이터를 도큐먼트 타입으로 저장하는 NoSQL"
   ]
  },
  {
   "cell_type": "markdown",
   "id": "5e4f2d0b",
   "metadata": {},
   "source": [
    "- BJON(Binary JSON)의 형태로 저장\n",
    "- 스키마를 지정하지 않아도 됨(유연성)\n",
    "- 클러스터를 지원해 스케일아웃이 쉬움\n",
    "- 메모리를 많이 사용\n",
    "- 트랜잭션 지원이 RDB에 비해 약함"
   ]
  },
  {
   "cell_type": "markdown",
   "id": "5de6b2c6",
   "metadata": {},
   "source": [
    "### 몽고디비 CRUD API 생성"
   ]
  },
  {
   "cell_type": "code",
   "execution_count": null,
   "id": "2af43d77",
   "metadata": {},
   "outputs": [
    {
     "data": {
      "text/plain": [
       "Promise { <pending> }"
      ]
     },
     "execution_count": 1,
     "metadata": {},
     "output_type": "execute_result"
    },
    {
     "name": "stderr",
     "output_type": "stream",
     "text": [
      "(node:23104) [MONGODB DRIVER] Warning: useNewUrlParser is a deprecated option: useNewUrlParser has no effect since Node.js Driver version 4.0.0 and will be removed in the next major version\n",
      "(Use `node --trace-warnings ...` to show where the warning was created)\n"
     ]
    },
    {
     "name": "stdout",
     "output_type": "stream",
     "text": [
      "MongoDB 접속 성공\n",
      "문서 추가 완료\n",
      "찾은 문서:  [\n",
      "  {\n",
      "    _id: new ObjectId('6812e0b1be95e0443f142fd5'),\n",
      "    name: 'Andy',\n",
      "    age: 30\n",
      "  }\n",
      "]\n",
      "문서 업데이트 완료\n",
      "갱신된 문서:  [\n",
      "  {\n",
      "    _id: new ObjectId('6812e0b1be95e0443f142fd5'),\n",
      "    name: 'Andy',\n",
      "    age: 31\n",
      "  }\n",
      "]\n"
     ]
    }
   ],
   "source": [
    "// 몽고디비 예제\n",
    "const MongoClient=require('mongodb').MongoClient;\n",
    "const url=require('./Info.js');\n",
    "\n",
    "// MongoClient 생성\n",
    "const client=new MongoClient(url, {useNewUrlParser: true});\n",
    "\n",
    "async function main(){\n",
    "    try{\n",
    "        // 커넥션을 생성하고 연결 시도\n",
    "        await client.connect();\n",
    "        console.log('MongoDB 접속 성공');\n",
    "\n",
    "        // test 데이터베이스의 person 컬렉션 가져오기\n",
    "        const collection=client.db('test').collection('person');\n",
    "\n",
    "        // 문서 하나 추가\n",
    "        await collection.insertOne({name: 'Andy', age: 30});\n",
    "        console.log('문서 추가 완료')\n",
    "\n",
    "        // 문서 찾기\n",
    "        const documents=await collection.find({name: 'Andy', age: 30}).toArray();\n",
    "        console.log('찾은 문서: ', documents);\n",
    "\n",
    "        // 문서 갱신하기\n",
    "        await collection.updateOne({name: 'Andy'}, {$set: {age: 31}} );\n",
    "        console.log('문서 업데이트 완료')\n",
    "\n",
    "        // 갱신된 문서 확인하기\n",
    "        const updatedDocuments=await collection.find({name: 'Andy'}).toArray();\n",
    "        console.log('갱신된 문서: ', updatedDocuments);\n",
    "\n",
    "        // 문서 삭제하기\n",
    "        // await collection.deleteOne({name: 'Andy'});\n",
    "        // console.log('문서 삭제')\n",
    "\n",
    "        // 연결 끊기\n",
    "        await client.close();\n",
    "    }catch (err) {\n",
    "        console.error(err);\n",
    "    }\n",
    "}\n",
    "\n",
    "main();"
   ]
  },
  {
   "cell_type": "markdown",
   "id": "9db0566b",
   "metadata": {},
   "source": [
    "### 몽구스를 사용해 CRUD API 생성"
   ]
  },
  {
   "cell_type": "code",
   "execution_count": 1,
   "id": "fac4d607",
   "metadata": {},
   "outputs": [],
   "source": [
    "// 몽구스는 객체를 도큐먼트로 매핑하는 기능 보유, 스키마 지정가능\n",
    "// 기존 몽고디비 예제의 person 객체를 스키마로 생성\n",
    "var mongoose=require('mongoose');\n",
    "var Schema=mongoose.Schema;\n",
    "\n",
    "const personSchema=new Schema({     // 스키마 객체 생성\n",
    "    name: String,\n",
    "    age: Number,\n",
    "    email: {type: String, required: true},\n",
    "});\n",
    "\n",
    "// module.exports=mongoose.model('Person', personSchema);  // 모델 객체 생성"
   ]
  },
  {
   "cell_type": "code",
   "execution_count": 1,
   "id": "42f64cef",
   "metadata": {},
   "outputs": [
    {
     "data": {
      "text/plain": [
       "<ref *1> [Function: app] {\n",
       "  _events: [Object: null prototype] { mount: [Function: onmount] },\n",
       "  _eventsCount: 1,\n",
       "  _maxListeners: undefined,\n",
       "  setMaxListeners: [Function: setMaxListeners],\n",
       "  getMaxListeners: [Function: getMaxListeners],\n",
       "  emit: [Function: emit],\n",
       "  addListener: [Function: addListener],\n",
       "  on: [Function: addListener],\n",
       "  prependListener: [Function: prependListener],\n",
       "  once: [Function: once],\n",
       "  prependOnceListener: [Function: prependOnceListener],\n",
       "  removeListener: [Function: removeListener],\n",
       "  off: [Function: removeListener],\n",
       "  removeAllListeners: [Function: removeAllListeners],\n",
       "  listeners: [Function: listeners],\n",
       "  rawListeners: [Function: rawListeners],\n",
       "  listenerCount: [Function: listenerCount],\n",
       "  eventNames: [Function: eventNames],\n",
       "  init: [Function: init],\n",
       "  defaultConfiguration: [Function: defaultConfiguration],\n",
       "  handle: [Function: handle],\n",
       "  use: [Function: use],\n",
       "  route: [Function: route],\n",
       "  engine: [Function: engine],\n",
       "  param: [Function: param],\n",
       "  set: [Function: set],\n",
       "  path: [Function: path],\n",
       "  enabled: [Function: enabled],\n",
       "  disabled: [Function: disabled],\n",
       "  enable: [Function: enable],\n",
       "  disable: [Function: disable],\n",
       "  acl: [Function (anonymous)],\n",
       "  bind: [Function (anonymous)],\n",
       "  checkout: [Function (anonymous)],\n",
       "  connect: [Function (anonymous)],\n",
       "  copy: [Function (anonymous)],\n",
       "  delete: [Function (anonymous)],\n",
       "  get: [Function (anonymous)],\n",
       "  head: [Function (anonymous)],\n",
       "  link: [Function (anonymous)],\n",
       "  lock: [Function (anonymous)],\n",
       "  'm-search': [Function (anonymous)],\n",
       "  merge: [Function (anonymous)],\n",
       "  mkactivity: [Function (anonymous)],\n",
       "  mkcalendar: [Function (anonymous)],\n",
       "  mkcol: [Function (anonymous)],\n",
       "  move: [Function (anonymous)],\n",
       "  notify: [Function (anonymous)],\n",
       "  options: [Function (anonymous)],\n",
       "  patch: [Function (anonymous)],\n",
       "  post: [Function (anonymous)],\n",
       "  propfind: [Function (anonymous)],\n",
       "  proppatch: [Function (anonymous)],\n",
       "  purge: [Function (anonymous)],\n",
       "  put: [Function (anonymous)],\n",
       "  rebind: [Function (anonymous)],\n",
       "  report: [Function (anonymous)],\n",
       "  search: [Function (anonymous)],\n",
       "  source: [Function (anonymous)],\n",
       "  subscribe: [Function (anonymous)],\n",
       "  trace: [Function (anonymous)],\n",
       "  unbind: [Function (anonymous)],\n",
       "  unlink: [Function (anonymous)],\n",
       "  unlock: [Function (anonymous)],\n",
       "  unsubscribe: [Function (anonymous)],\n",
       "  all: [Function: all],\n",
       "  render: [Function: render],\n",
       "  listen: [Function: listen],\n",
       "  request: IncomingMessage { app: [Circular *1] },\n",
       "  response: ServerResponse { app: [Circular *1] },\n",
       "  cache: [Object: null prototype] {},\n",
       "  engines: [Object: null prototype] {},\n",
       "  settings: [Object: null prototype] {\n",
       "    'x-powered-by': true,\n",
       "    etag: 'weak',\n",
       "    'etag fn': [Function: generateETag],\n",
       "    env: 'development',\n",
       "    'query parser': 'simple',\n",
       "    'query parser fn': [Function: parse],\n",
       "    'subdomain offset': 2,\n",
       "    'trust proxy': false,\n",
       "    'trust proxy fn': [Function: trustNone],\n",
       "    view: [Function: View],\n",
       "    views: 'd:\\\\study\\\\NODEJS\\\\views',\n",
       "    'jsonp callback name': 'callback'\n",
       "  },\n",
       "  locals: [Object: null prototype] {\n",
       "    settings: [Object: null prototype] {\n",
       "      'x-powered-by': true,\n",
       "      etag: 'weak',\n",
       "      'etag fn': [Function: generateETag],\n",
       "      env: 'development',\n",
       "      'query parser': 'simple',\n",
       "      'query parser fn': [Function: parse],\n",
       "      'subdomain offset': 2,\n",
       "      'trust proxy': false,\n",
       "      'trust proxy fn': [Function: trustNone],\n",
       "      view: [Function: View],\n",
       "      views: 'd:\\\\study\\\\NODEJS\\\\views',\n",
       "      'jsonp callback name': 'callback'\n",
       "    }\n",
       "  },\n",
       "  mountpath: '/',\n",
       "  router: [Getter]\n",
       "}"
      ]
     },
     "execution_count": 1,
     "metadata": {},
     "output_type": "execute_result"
    },
    {
     "name": "stdout",
     "output_type": "stream",
     "text": [
      "server started\n",
      "Connected to MongoDB\n"
     ]
    },
    {
     "name": "stderr",
     "output_type": "stream",
     "text": [
      "(node:30736) [MONGODB DRIVER] Warning: useNewUrlParser is a deprecated option: useNewUrlParser has no effect since Node.js Driver version 4.0.0 and will be removed in the next major version\n",
      "(Use `node --trace-warnings ...` to show where the warning was created)\n",
      "ValidationError: Person validation failed: email: Path `email` is required.\n",
      "    at Document.invalidate (d:\\study\\NODEJS\\node_modules\\mongoose\\lib\\document.js:3343:32)\n",
      "    at d:\\study\\NODEJS\\node_modules\\mongoose\\lib\\document.js:3104:17\n",
      "    at d:\\study\\NODEJS\\node_modules\\mongoose\\lib\\schemaType.js:1407:9\n",
      "    at process.processTicksAndRejections (node:internal/process/task_queues:77:11)\n"
     ]
    },
    {
     "name": "stdout",
     "output_type": "stream",
     "text": [
      "{\n",
      "  _id: new ObjectId('68130ab7f0cdd3f570621652'),\n",
      "  name: 'Andy Park',\n",
      "  age: 32,\n",
      "  email: 'andy@backend.com',\n",
      "  __v: 0\n",
      "}\n"
     ]
    }
   ],
   "source": [
    "// CRUD를 테스트할 익스프레스 API 코드\n",
    "const express=require(\"express\");\n",
    "const bodyParser=require(\"body-parser\");\n",
    "const mongoose=require(\"mongoose\");\n",
    "const Schema=mongoose.Schema;\n",
    "const personSchema=new Schema({ \n",
    "    name: String,\n",
    "    age: Number,\n",
    "    email: {type: String, required: true},\n",
    "});\n",
    "const Person = mongoose.model(\"Person\", personSchema);\n",
    "\n",
    "mongoose.set(\"strictQuery\", false);     // 경고가 뜨지 않게 설정\n",
    "\n",
    "const app=express();\n",
    "app.use(bodyParser.json());     // HTTP에서 Body를 파싱하기 위한 설정\n",
    "app.listen(3000, async() => {\n",
    "    console.log(\"server started\");\n",
    "    const mongodbUri=require('./Info.js');      \n",
    "    \n",
    "    // 몽고디비에 커넥션 맺기\n",
    "    mongoose\n",
    "        .connect(mongodbUri, {useNewUrlParser: true})\n",
    "        .then(console.log(\"Connected to MongoDB\"));\n",
    "});\n",
    "\n",
    "// 모든 person 데이터 출력\n",
    "app.get(\"/person\", async(req, res) => {\n",
    "    const person=await Person.find({});\n",
    "    res.send(person);\n",
    "});\n",
    "\n",
    "// 특정 이메일로 person 찾기\n",
    "app.get(\"/person/:email\", async(req, res) => {\n",
    "    const person=await Person.findOne({email: req.params.email});\n",
    "    res.send(person);\n",
    "});\n",
    "\n",
    "// person 데이터 추가하기\n",
    "app.post(\"/person\", async (req, res) => {\n",
    "    const person=new Person(req.body);      \n",
    "    await person.save();        // const result=await Person.create(req.body);\n",
    "                                // res.send(result); 와 같은 코드\n",
    "    res.send(person);\n",
    "});\n",
    "\n",
    "// person 데이터 수정하기\n",
    "app.put(\"/person/:email\", async (req, res) => {\n",
    "    const person=await Person.findOneAndUpdate(\n",
    "        {email: req.params.email},\n",
    "        {$set: req.body},\n",
    "        {new: true}\n",
    "    );\n",
    "    console.log(person);\n",
    "    res.send(person);\n",
    "});\n",
    "\n",
    "// person 데이터 삭제하기\n",
    "app.delete(\"/person/:email\", async (req, res) => {\n",
    "    await Person.deleteMany({email: req.params.email});\n",
    "    res.send({success: true});\n",
    "})\n"
   ]
  },
  {
   "cell_type": "markdown",
   "id": "50803c39",
   "metadata": {},
   "source": [
    "### REST 클라이언트로 API 테스트\n",
    "- rest client extension 설치"
   ]
  }
 ],
 "metadata": {
  "kernelspec": {
   "display_name": "JavaScript (Node.js)",
   "language": "javascript",
   "name": "javascript"
  },
  "language_info": {
   "file_extension": ".js",
   "mimetype": "application/javascript",
   "name": "javascript",
   "version": "20.9.0"
  }
 },
 "nbformat": 4,
 "nbformat_minor": 5
}
